{
 "cells": [
  {
   "cell_type": "markdown",
   "metadata": {},
   "source": [
    "1)\tWrite a Python script to merge two Python dictionaries"
   ]
  },
  {
   "cell_type": "code",
   "execution_count": 31,
   "metadata": {},
   "outputs": [
    {
     "name": "stdout",
     "output_type": "stream",
     "text": [
      "value of dictionary 1: {'a': 1, 'b': 9}\n",
      "value of dictionary 2: {'c': 10, 'd': 11, 'e': 19}\n",
      "After merging 2 dictionaries: {'a': 1, 'b': 9, 'c': 10, 'd': 11, 'e': 19}\n"
     ]
    }
   ],
   "source": [
    "dict1={'a':1,'b':9}\n",
    "dict2={'c':10,'d':11,'e':19}\n",
    "print(\"value of dictionary 1:\",dict1)\n",
    "print(\"value of dictionary 2:\",dict2)\n",
    "x=dict1.copy()\n",
    "x.update(dict2)\n",
    "print(\"After merging 2 dictionaries:\",x)"
   ]
  },
  {
   "cell_type": "markdown",
   "metadata": {},
   "source": [
    "2)\tWrite a Python program to remove a key from a dictionary"
   ]
  },
  {
   "cell_type": "code",
   "execution_count": 16,
   "metadata": {},
   "outputs": [
    {
     "name": "stdout",
     "output_type": "stream",
     "text": [
      "Original dictinary: {'w': 2, 'x': 4, 'y': 6, 'z': 8}\n",
      "\n",
      "After removing a key from a dictionary : {'w': 2, 'y': 6, 'z': 8}\n"
     ]
    }
   ],
   "source": [
    "dicts={'w':2,'x':4,'y':6,'z':8}\n",
    "print(\"Original dictinary:\",dicts)\n",
    "if 'x' in dicts:\n",
    "    del dicts['x']\n",
    "print()\n",
    "print(\"After removing a key from a dictionary :\",dicts)"
   ]
  },
  {
   "cell_type": "markdown",
   "metadata": {},
   "source": [
    "3)\tWrite a Python program to map two lists into a dictionary"
   ]
  },
  {
   "cell_type": "code",
   "execution_count": 23,
   "metadata": {},
   "outputs": [
    {
     "name": "stdout",
     "output_type": "stream",
     "text": [
      "map two lists into a dictionary : {'one': 1, 'two': 2, 'three': 3}\n"
     ]
    }
   ],
   "source": [
    "keys=['one','two','three']\n",
    "values=[1,2,3]\n",
    "x=dict(zip(keys,values))\n",
    "print(\"map two lists into a dictionary :\",x)"
   ]
  },
  {
   "cell_type": "markdown",
   "metadata": {},
   "source": [
    "4)Write a Python program to find the length of a set"
   ]
  },
  {
   "cell_type": "code",
   "execution_count": 32,
   "metadata": {},
   "outputs": [
    {
     "name": "stdout",
     "output_type": "stream",
     "text": [
      "length of a set: 4\n"
     ]
    }
   ],
   "source": [
    "sets={\"mango\",\"grapes\",\"apple\",\"pineapple\"}\n",
    "length=len(sets)\n",
    "print(\"length of a set:\",length)"
   ]
  },
  {
   "cell_type": "markdown",
   "metadata": {},
   "source": [
    "5)Write a Python program to remove the intersection of a 2nd set from the 1st set"
   ]
  },
  {
   "cell_type": "code",
   "execution_count": 33,
   "metadata": {},
   "outputs": [
    {
     "name": "stdout",
     "output_type": "stream",
     "text": [
      "value of set 1: {1, 2, 3, 4, 5, 6, 7}\n",
      "value of set 2: {2, 3, 4, 5, 7, 9, 10}\n",
      "Remove the intersection of a 2nd set from the 1st set: {1, 6}\n"
     ]
    }
   ],
   "source": [
    "s1={1,2,3,4,5,6,7}\n",
    "s2={2,3,4,7,5,9,10}\n",
    "print(\"value of set 1:\",s1)\n",
    "print(\"value of set 2:\",s2)\n",
    "s1.difference_update(s2)\n",
    "print(\"Remove the intersection of a 2nd set from the 1st set:\",s1)"
   ]
  }
 ],
 "metadata": {
  "kernelspec": {
   "display_name": "Python 3",
   "language": "python",
   "name": "python3"
  },
  "language_info": {
   "codemirror_mode": {
    "name": "ipython",
    "version": 3
   },
   "file_extension": ".py",
   "mimetype": "text/x-python",
   "name": "python",
   "nbconvert_exporter": "python",
   "pygments_lexer": "ipython3",
   "version": "3.7.6"
  }
 },
 "nbformat": 4,
 "nbformat_minor": 4
}
