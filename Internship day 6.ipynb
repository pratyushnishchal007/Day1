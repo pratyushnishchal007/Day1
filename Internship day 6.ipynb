{
 "cells": [
  {
   "cell_type": "markdown",
   "metadata": {},
   "source": [
    "•\tWrite a program to loop through a list of numbers and add +2 to every value to elements in list"
   ]
  },
  {
   "cell_type": "code",
   "execution_count": 8,
   "metadata": {},
   "outputs": [
    {
     "name": "stdout",
     "output_type": "stream",
     "text": [
      "Enter the number of elements 4\n",
      "Enter the element3\n",
      "Enter the element4\n",
      "Enter the element5\n",
      "Enter the element6\n",
      "List  [3, 4, 5, 6]\n",
      "After adding 2 to each element of list  [5, 6, 7, 8]\n"
     ]
    }
   ],
   "source": [
    "L=[]\n",
    "new_List=[]\n",
    "n=int(input(\"Enter the number of elements \"))\n",
    "for i in range(0,n):\n",
    "    element=int(input(\"Enter the element\"))\n",
    "    L.append(element)\n",
    "print(\"List \",L)\n",
    "for i in range(0,len(L)):\n",
    "    new_List.append(L[i]+2)\n",
    "print(\"After adding 2 to each element of list \",str(new_List))"
   ]
  },
  {
   "cell_type": "markdown",
   "metadata": {},
   "source": [
    "•\tWrite a program to get the below pattern\n",
    "\n",
    "54321\n",
    "\n",
    "4321\n",
    "\n",
    "321\n",
    "\n",
    "21\n",
    "\n",
    "1\n"
   ]
  },
  {
   "cell_type": "code",
   "execution_count": 10,
   "metadata": {},
   "outputs": [
    {
     "name": "stdout",
     "output_type": "stream",
     "text": [
      "5 4 3 2 1\n",
      "4 3 2 1\n",
      "3 2 1\n",
      "2 1\n",
      "1\n"
     ]
    }
   ],
   "source": [
    "n=5\n",
    "for i in range(n):\n",
    "    print (*[n-i for i in range(n)])\n",
    "    n=n-1"
   ]
  },
  {
   "cell_type": "markdown",
   "metadata": {},
   "source": [
    "•\tPython Program to Print the Fibonacci sequence"
   ]
  },
  {
   "cell_type": "code",
   "execution_count": 4,
   "metadata": {},
   "outputs": [
    {
     "name": "stdout",
     "output_type": "stream",
     "text": [
      "How many terms? 7\n",
      "Fibonacci sequence:\n",
      "0\n",
      "1\n",
      "1\n",
      "2\n",
      "3\n",
      "5\n",
      "8\n"
     ]
    }
   ],
   "source": [
    "n = int(input(\"How many terms? \"))\n",
    "n1, n2 = 0, 1\n",
    "count = 0\n",
    "if n <= 0:\n",
    "   print(\"Please enter a positive integer\")\n",
    "elif n == 1:\n",
    "   print(\"Fibonacci sequence upto\",n,\":\")\n",
    "   print(n1)\n",
    "else:\n",
    "   print(\"Fibonacci sequence:\")\n",
    "   while count < n:\n",
    "       print(n1)\n",
    "       nth = n1 + n2\n",
    "       n1 = n2\n",
    "       n2 = nth\n",
    "       count =count + 1"
   ]
  },
  {
   "cell_type": "markdown",
   "metadata": {},
   "source": [
    "•\tExplain Armstrong number and write a code with a function"
   ]
  },
  {
   "cell_type": "markdown",
   "metadata": {},
   "source": [
    "Armstrong number:\n",
    "\n",
    "A number is called Armstrong number if it is equal to the sum of the cubes of its own digits.\n",
    "\n",
    "For example: 153 is an Armstrong number since 153 = 1*1*1 + 5*5*5 + 3*3*3."
   ]
  },
  {
   "cell_type": "code",
   "execution_count": 3,
   "metadata": {},
   "outputs": [
    {
     "name": "stdout",
     "output_type": "stream",
     "text": [
      "Enter a number 8\n",
      "8 is an armstrong number\n"
     ]
    }
   ],
   "source": [
    "def Armstrong(n):\n",
    "    sum=0\n",
    "    number =n\n",
    "    while(number > 0):\n",
    "        remainder = number%10\n",
    "        number = number//10\n",
    "        sum += remainder**len(str(n))\n",
    "    if(sum == n):\n",
    "        return True\n",
    "n = int(input(\"Enter a number \"))\n",
    "if(Armstrong(n)):\n",
    "    print( n,\"is an armstrong number\")\n",
    "else:\n",
    "    print(n ,\"isn't an armstrong number\")"
   ]
  },
  {
   "cell_type": "markdown",
   "metadata": {},
   "source": [
    "•\tWrite a program to print the multiplication table of 9"
   ]
  },
  {
   "cell_type": "code",
   "execution_count": 5,
   "metadata": {},
   "outputs": [
    {
     "name": "stdout",
     "output_type": "stream",
     "text": [
      "9 x 1 = 9\n",
      "9 x 2 = 18\n",
      "9 x 3 = 27\n",
      "9 x 4 = 36\n",
      "9 x 5 = 45\n",
      "9 x 6 = 54\n",
      "9 x 7 = 63\n",
      "9 x 8 = 72\n",
      "9 x 9 = 81\n",
      "9 x 10 = 90\n"
     ]
    }
   ],
   "source": [
    "x=9\n",
    "for i in range(1,11):\n",
    "    print(x,'x',i,'=',x*i)"
   ]
  },
  {
   "cell_type": "markdown",
   "metadata": {},
   "source": [
    "•\tCheck if a program is negative or positive"
   ]
  },
  {
   "cell_type": "code",
   "execution_count": 7,
   "metadata": {},
   "outputs": [
    {
     "name": "stdout",
     "output_type": "stream",
     "text": [
      "Enter the number 13\n",
      "13  is a positive number\n"
     ]
    }
   ],
   "source": [
    "n=int(input(\"Enter the number \"))\n",
    "if n>0:\n",
    "    print(n,\" is a positive number\")\n",
    "else:\n",
    "    print(n,\" is a negative number\")"
   ]
  },
  {
   "cell_type": "markdown",
   "metadata": {},
   "source": [
    "•\tWrite a program to convert the number of days to ages"
   ]
  },
  {
   "cell_type": "code",
   "execution_count": 9,
   "metadata": {},
   "outputs": [
    {
     "name": "stdout",
     "output_type": "stream",
     "text": [
      "Enter the number of days 365\n",
      "1.0 years\n"
     ]
    }
   ],
   "source": [
    "days=int(input(\"Enter the number of days \"))\n",
    "years=days/365\n",
    "print(years,\"years\")"
   ]
  },
  {
   "cell_type": "markdown",
   "metadata": {},
   "source": [
    "•\tSolve Trigonometry problem using math function write a program to solve using math function"
   ]
  },
  {
   "cell_type": "code",
   "execution_count": 1,
   "metadata": {},
   "outputs": [
    {
     "name": "stdout",
     "output_type": "stream",
     "text": [
      "Enter the value 45\n",
      "Value of sin( 45 ) is 0.8509035245341184\n",
      "Value of cos( 45 ) is 0.5253219888177297\n",
      "Value of tan( 45 ) is 1.6197751905438615\n",
      "Value of sinh( 45 ) is 1.7467135528742547e+19\n",
      "Value of cosh( 45 ) is 1.7467135528742547e+19\n",
      "Value of tanh( 45 ) is 1.0\n"
     ]
    }
   ],
   "source": [
    "import math as m\n",
    "d=int(input(\"Enter the value \"))\n",
    "print(\"Value of sin(\",d,\")\",\"is\",m.sin(d))\n",
    "print(\"Value of cos(\",d,\")\",\"is\",m.cos(d))\n",
    "print(\"Value of tan(\",d,\")\",\"is\",m.tan(d))\n",
    "print(\"Value of sinh(\",d,\")\",\"is\",m.sinh(d))\n",
    "print(\"Value of cosh(\",d,\")\",\"is\",m.cosh(d))\n",
    "print(\"Value of tanh(\",d,\")\",\"is\",m.tanh(d))"
   ]
  },
  {
   "cell_type": "markdown",
   "metadata": {},
   "source": [
    "•\tCreate a calculator only on a code level by using if condition (Basic arithmetic calculation)"
   ]
  },
  {
   "cell_type": "code",
   "execution_count": 1,
   "metadata": {},
   "outputs": [
    {
     "name": "stdout",
     "output_type": "stream",
     "text": [
      "select operation:\n",
      "1. Add\n",
      "2. Substract\n",
      "3. Multiply\n",
      "4. Divide\n",
      "Enter the option 3\n",
      "Enter the 1st number 3\n",
      "Enter the 2nd number 5\n",
      "3 * 5 = 15\n"
     ]
    }
   ],
   "source": [
    "def add(x,y):\n",
    "    return x+y\n",
    "def substract(x,y):\n",
    "    return x-y\n",
    "def multiply(x,y):\n",
    "    return x*y\n",
    "def divide(x,y):\n",
    "    return x/y\n",
    "print(\"select operation:\")\n",
    "print(\"1. Add\")\n",
    "print(\"2. Substract\")\n",
    "print(\"3. Multiply\")\n",
    "print(\"4. Divide\")\n",
    "option=int(input(\"Enter the option \"))\n",
    "n1=int(input(\"Enter the 1st number \"))\n",
    "n2=int(input(\"Enter the 2nd number \"))\n",
    "if option==1:\n",
    "    print(n1,\"+\",n2,\"=\",add(n1,n2))\n",
    "elif option==2:\n",
    "    print(n1,\"-\",n2,\"=\",substract(n1,n2))\n",
    "elif option==3:\n",
    "    print(n1,\"*\",n2,\"=\",multiply(n1,n2))\n",
    "elif option==4:\n",
    "    print(n1,\"/\",n2,\"=\",divide(n1,n2))\n",
    "else:\n",
    "    print(\"Invalid input\")"
   ]
  }
 ],
 "metadata": {
  "kernelspec": {
   "display_name": "Python 3",
   "language": "python",
   "name": "python3"
  },
  "language_info": {
   "codemirror_mode": {
    "name": "ipython",
    "version": 3
   },
   "file_extension": ".py",
   "mimetype": "text/x-python",
   "name": "python",
   "nbconvert_exporter": "python",
   "pygments_lexer": "ipython3",
   "version": "3.7.6"
  }
 },
 "nbformat": 4,
 "nbformat_minor": 4
}
