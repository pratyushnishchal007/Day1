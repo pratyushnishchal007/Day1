{
 "cells": [
  {
   "cell_type": "markdown",
   "metadata": {},
   "source": [
    "•\tCreate a lambda function that multiplies argument x with argument y"
   ]
  },
  {
   "cell_type": "code",
   "execution_count": 4,
   "metadata": {},
   "outputs": [
    {
     "name": "stdout",
     "output_type": "stream",
     "text": [
      "Enter value of x:7\n",
      "Enter value of y:9\n",
      "7 X 9 = 63\n"
     ]
    }
   ],
   "source": [
    "x=int(input(\"Enter value of x:\"))\n",
    "y=int(input(\"Enter value of y:\"))\n",
    "a=lambda x,y:x*y\n",
    "print(x,\"X\",y,\"=\",a(x,y))"
   ]
  },
  {
   "cell_type": "markdown",
   "metadata": {},
   "source": [
    "•\tWrite a Python program to create Fibonacci series to n using Lambda"
   ]
  },
  {
   "cell_type": "code",
   "execution_count": 2,
   "metadata": {},
   "outputs": [
    {
     "name": "stdout",
     "output_type": "stream",
     "text": [
      "Fibonacci series upto 7:\n",
      "[0, 1, 1, 2, 3, 5, 8]\n"
     ]
    }
   ],
   "source": [
    "from functools import reduce\n",
    "fibonacci = lambda n: reduce(lambda x, _: x+[x[-1]+x[-2]],range(n-2), [0, 1])\n",
    "print(\"Fibonacci series upto 7:\")\n",
    "print(fibonacci(7))"
   ]
  },
  {
   "cell_type": "markdown",
   "metadata": {},
   "source": [
    "•\tWrite a Python program that multiply each number of given list with a given number "
   ]
  },
  {
   "cell_type": "code",
   "execution_count": 1,
   "metadata": {},
   "outputs": [
    {
     "name": "stdout",
     "output_type": "stream",
     "text": [
      "Enter a number:3\n",
      "Original list: [1, 2, 3, 4]\n",
      "After multiplying 3 to each number of given list [3, 6, 9, 12]\n"
     ]
    }
   ],
   "source": [
    "L=[1,2,3,4]\n",
    "n=int(input(\"Enter a number:\"))\n",
    "new=list(map(lambda lists:lists*n,L))\n",
    "print(\"Original list:\",L)\n",
    "print(\"After multiplying\",n,\"to each number of given list\",new)"
   ]
  },
  {
   "cell_type": "markdown",
   "metadata": {},
   "source": [
    "•\tWrite a Python program to find numbers divisible by 9 from a list of numbers "
   ]
  },
  {
   "cell_type": "code",
   "execution_count": 45,
   "metadata": {},
   "outputs": [
    {
     "name": "stdout",
     "output_type": "stream",
     "text": [
      "numbers divisible by 9:- [9, 18, 72]\n"
     ]
    }
   ],
   "source": [
    "list1=[9,18,72,67,34]\n",
    "A=list(filter(lambda new:(new%9==0),list1))\n",
    "print(\"numbers divisible by 9:-\",A)"
   ]
  },
  {
   "cell_type": "markdown",
   "metadata": {},
   "source": [
    "•\tWrite a Python program to count the even numbers in a given list of integers "
   ]
  },
  {
   "cell_type": "code",
   "execution_count": 11,
   "metadata": {},
   "outputs": [
    {
     "name": "stdout",
     "output_type": "stream",
     "text": [
      "Even Number: [2, 4, 6, 8, 10, 24, 62]\n",
      "Total number of even numbers in a list: 7\n"
     ]
    }
   ],
   "source": [
    "L=[1,2,4,5,6,7,8,10,24,62]\n",
    "count=0\n",
    "for i in B:\n",
    "    B=list(filter(lambda x:(x%2==0),L))\n",
    "    count=count+1\n",
    "print(\"Even Number:\",B)\n",
    "print(\"Total number of even numbers in a list:\",count)"
   ]
  },
  {
   "cell_type": "code",
   "execution_count": null,
   "metadata": {},
   "outputs": [],
   "source": []
  }
 ],
 "metadata": {
  "kernelspec": {
   "display_name": "Python 3",
   "language": "python",
   "name": "python3"
  },
  "language_info": {
   "codemirror_mode": {
    "name": "ipython",
    "version": 3
   },
   "file_extension": ".py",
   "mimetype": "text/x-python",
   "name": "python",
   "nbconvert_exporter": "python",
   "pygments_lexer": "ipython3",
   "version": "3.7.6"
  }
 },
 "nbformat": 4,
 "nbformat_minor": 4
}
