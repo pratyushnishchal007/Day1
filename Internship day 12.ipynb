{
 "cells": [
  {
   "cell_type": "code",
   "execution_count": 4,
   "metadata": {},
   "outputs": [
    {
     "name": "stdout",
     "output_type": "stream",
     "text": [
      "[\"pransu\", \"raj\"]\n",
      "[\"varun\", \"ram\"]\n",
      "{\"Name\": \"pratyush\", \"Age\": 19}\n",
      "2.65\n",
      "\"sohan\"\n",
      "34\n",
      "true\n",
      "false\n",
      "null\n"
     ]
    }
   ],
   "source": [
    "import json\n",
    "#list\n",
    "print(json.dumps([\"pransu\",\"raj\"]))\n",
    "#string\n",
    "print(json.dumps((\"varun\",\"ram\")))\n",
    "#dictionary\n",
    "print(json.dumps({\"Name\":\"pratyush\",\"Age\":19}))\n",
    "#float\n",
    "print(json.dumps(2.65))\n",
    "#tuple\n",
    "print(json.dumps(\"sohan\"))\n",
    "#integer\n",
    "print(json.dumps(34))\n",
    "#True\n",
    "print(json.dumps(True))\n",
    "#False\n",
    "print(json.dumps(False))\n",
    "#None\n",
    "print(json.dumps(None))                 "
   ]
  },
  {
   "cell_type": "code",
   "execution_count": null,
   "metadata": {},
   "outputs": [],
   "source": []
  }
 ],
 "metadata": {
  "kernelspec": {
   "display_name": "Python 3",
   "language": "python",
   "name": "python3"
  },
  "language_info": {
   "codemirror_mode": {
    "name": "ipython",
    "version": 3
   },
   "file_extension": ".py",
   "mimetype": "text/x-python",
   "name": "python",
   "nbconvert_exporter": "python",
   "pygments_lexer": "ipython3",
   "version": "3.7.6"
  }
 },
 "nbformat": 4,
 "nbformat_minor": 4
}
