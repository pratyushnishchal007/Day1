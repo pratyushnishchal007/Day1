{
 "cells": [
  {
   "cell_type": "markdown",
   "metadata": {},
   "source": [
    "1.)List down all the error types and check all the errors using a python program for all errors"
   ]
  },
  {
   "cell_type": "code",
   "execution_count": null,
   "metadata": {},
   "outputs": [],
   "source": [
    "print(\"ImportError:\")\n",
    "from math import square\n",
    "\n",
    "print(\"ModuleNotFoundError:\")\n",
    "import friday\n",
    "\n",
    "print(\"TypeError:\")\n",
    "\"89\"+89\n",
    "\n",
    "print(\"IndexError:\")\n",
    "L=[8,7,9,1,5]\n",
    "L[10]\n",
    "\n",
    "print(\"NameError:\")\n",
    "xyz\n",
    "\n",
    "print(\"ZeroDivisionError:\")\n",
    "y=5/0\n",
    "print(y)\n",
    "\n",
    "print(\"SyntaxError:\")\n",
    "len(\"python\")= 6\n",
    "\n",
    "print(\"KeyError:\")\n",
    "dic={1:\"one\",2:\"two\",3:\"three\"}\n",
    "dic[6]\n",
    "\n",
    "print(\"ValueError:\")\n",
    "float(\"my like to play\")\n",
    "\n",
    "print(\"IndentationError:\")\n",
    "if(x>10):\n",
    "print(10)"
   ]
  },
  {
   "cell_type": "markdown",
   "metadata": {},
   "source": [
    "2.)Design a simple calculator app with try and except for all use cases"
   ]
  },
  {
   "cell_type": "code",
   "execution_count": 2,
   "metadata": {},
   "outputs": [
    {
     "name": "stdout",
     "output_type": "stream",
     "text": [
      "Select Operation:\n",
      "1.)ADD\n",
      "2.)SUBSTRACT\n",
      "3.)MULTIPLY\n",
      "4.)DIVIDE\n",
      "Enter the option:3\n",
      "Enter the first number:3\n",
      "Enter the second number:5\n",
      "3 * 5 = 15\n"
     ]
    }
   ],
   "source": [
    "def add(a,b):\n",
    "    return a+b\n",
    "def substract(a,b):\n",
    "    return a-b\n",
    "def multiply(a,b):\n",
    "    return a*b\n",
    "def divide(a,b):\n",
    "    return a/b\n",
    "print(\"Select Operation:\")\n",
    "print(\"1.)ADD\")\n",
    "print(\"2.)SUBSTRACT\")\n",
    "print(\"3.)MULTIPLY\")\n",
    "print(\"4.)DIVIDE\")\n",
    "Operation=int(input(\"Enter the option:\"))\n",
    "n1=int(input(\"Enter the first number:\"))\n",
    "n2=int(input(\"Enter the second number:\"))\n",
    "if Operation==1:\n",
    "    print(n1,\"+\",n2,\"=\",add(n1,n2))\n",
    "elif Operation==2:\n",
    "    print(n1,\"-\",n2,\"=\",substract(n1,n2))\n",
    "elif Operation==3:\n",
    "    print(n1,\"*\",n2,\"=\",multiply(n1,n2))\n",
    "elif Operation==4:\n",
    "    try:\n",
    "        print(divide(n1,n2))\n",
    "    except ZeroDivisionError:\n",
    "        print()\n",
    "        print(n1,\"divided by 0 is not possible\")\n",
    "else:\n",
    "    print(\"Invalid Input\")\n",
    "    "
   ]
  },
  {
   "cell_type": "markdown",
   "metadata": {},
   "source": [
    "3.)print one message if the try block raises a NameError and another for other errors"
   ]
  },
  {
   "cell_type": "code",
   "execution_count": 11,
   "metadata": {},
   "outputs": [
    {
     "name": "stdout",
     "output_type": "stream",
     "text": [
      "Variable is not defined\n"
     ]
    }
   ],
   "source": [
    "try:\n",
    "    print(y)\n",
    "except NameError:\n",
    "    print(\"Variable is not defined\")\n",
    "except:\n",
    "    print(\"Something else went wrong\")"
   ]
  },
  {
   "cell_type": "markdown",
   "metadata": {},
   "source": [
    "4.)When try-except scenario is not required?"
   ]
  },
  {
   "cell_type": "markdown",
   "metadata": {},
   "source": [
    "answer:Try-except scenarios are not required when there are no run time errors"
   ]
  },
  {
   "cell_type": "markdown",
   "metadata": {},
   "source": [
    "5.)Try getting an input inside the try catch block"
   ]
  },
  {
   "cell_type": "code",
   "execution_count": 1,
   "metadata": {},
   "outputs": [
    {
     "name": "stdout",
     "output_type": "stream",
     "text": [
      "Enter 1st number:5\n",
      "Enter 2nd number:0\n",
      "5 divided by 0 is not possible\n"
     ]
    }
   ],
   "source": [
    "try:\n",
    "    a=int(input(\"Enter 1st number:\"))\n",
    "    b=int(input(\"Enter 2nd number:\"))\n",
    "    print(a/b)\n",
    "except ZeroDivisionError:\n",
    "          print(a,\"divided by 0 is not possible\")"
   ]
  }
 ],
 "metadata": {
  "kernelspec": {
   "display_name": "Python 3",
   "language": "python",
   "name": "python3"
  },
  "language_info": {
   "codemirror_mode": {
    "name": "ipython",
    "version": 3
   },
   "file_extension": ".py",
   "mimetype": "text/x-python",
   "name": "python",
   "nbconvert_exporter": "python",
   "pygments_lexer": "ipython3",
   "version": "3.7.6"
  }
 },
 "nbformat": 4,
 "nbformat_minor": 4
}
