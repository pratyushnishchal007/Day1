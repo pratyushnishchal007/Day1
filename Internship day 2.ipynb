{
 "cells": [
  {
   "cell_type": "markdown",
   "metadata": {},
   "source": [
    "Q1)Create three variables (a,b,c) to same value of any integer & do the following\n",
    "\n",
    "a)Divide a by 10\n",
    "\n",
    "b)Multiply b by 50\n",
    "\n",
    "c)Add c value by 60"
   ]
  },
  {
   "cell_type": "code",
   "execution_count": 32,
   "metadata": {},
   "outputs": [
    {
     "name": "stdout",
     "output_type": "stream",
     "text": [
      "division= 15.0\n",
      "Multiplication= 7500\n",
      "Addition= 210\n"
     ]
    }
   ],
   "source": [
    "a=b=c=150\n",
    "divide=a/10\n",
    "multiply=b*50\n",
    "add=c+60\n",
    "print(\"division=\",divide)\n",
    "print(\"Multiplication=\",multiply)\n",
    "print(\"Addition=\",add)"
   ]
  },
  {
   "cell_type": "markdown",
   "metadata": {},
   "source": [
    "Q2)Create a String variable of 5 characters  and replace the 3rd character with G"
   ]
  },
  {
   "cell_type": "code",
   "execution_count": 38,
   "metadata": {},
   "outputs": [
    {
     "name": "stdout",
     "output_type": "stream",
     "text": [
      "Original string: EXCEL\n",
      "After replacing 3rd character with G: EXGEL\n"
     ]
    }
   ],
   "source": [
    "A=\"EXCEL\"\n",
    "print(\"Original string:\",A)\n",
    "print(\"After replacing 3rd character with G:\",A.replace(\"C\",\"G\"))"
   ]
  },
  {
   "cell_type": "markdown",
   "metadata": {},
   "source": [
    "Q3)Create two values (a,b) of int,float data type & convert the vise versa,"
   ]
  },
  {
   "cell_type": "code",
   "execution_count": 35,
   "metadata": {},
   "outputs": [
    {
     "name": "stdout",
     "output_type": "stream",
     "text": [
      "int to float: 2.0\n",
      "float to int 4\n"
     ]
    }
   ],
   "source": [
    "a=2 #int datatype\n",
    "b=4.5 # float datatype\n",
    "print(\"int to float:\",float(a))\n",
    "print(\"float to int\",int(b))"
   ]
  }
 ],
 "metadata": {
  "kernelspec": {
   "display_name": "Python 3",
   "language": "python",
   "name": "python3"
  },
  "language_info": {
   "codemirror_mode": {
    "name": "ipython",
    "version": 3
   },
   "file_extension": ".py",
   "mimetype": "text/x-python",
   "name": "python",
   "nbconvert_exporter": "python",
   "pygments_lexer": "ipython3",
   "version": "3.7.6"
  }
 },
 "nbformat": 4,
 "nbformat_minor": 4
}
