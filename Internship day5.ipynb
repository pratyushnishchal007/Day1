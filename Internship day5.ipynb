{
 "cells": [
  {
   "cell_type": "code",
   "execution_count": 4,
   "metadata": {},
   "outputs": [
    {
     "name": "stdout",
     "output_type": "stream",
     "text": [
      "Enter first number:12\n",
      "Enter second number:2\n",
      "Addition of two numbers is  14\n",
      "Substraction of two numbers is  10\n",
      "division of two numbers is  6.0\n",
      "mutiplication of two numbers is  24\n"
     ]
    }
   ],
   "source": [
    "def calculator(x,y):\n",
    "    print(\"Addition of two numbers is \",x+y)\n",
    "    print(\"Substraction of two numbers is \",x-y)\n",
    "    print(\"division of two numbers is \",x/y)\n",
    "    print(\"mutiplication of two numbers is \",x*y)  \n",
    "\n",
    "p=int(input(\"Enter first number:\"))\n",
    "q=int(input(\"Enter second number:\"))   \n",
    "calculator(p,q)"
   ]
  },
  {
   "cell_type": "code",
   "execution_count": 2,
   "metadata": {},
   "outputs": [
    {
     "name": "stdout",
     "output_type": "stream",
     "text": [
      "Enter patient name  Pratyush\n",
      "patient body temperature is 98 degree\n"
     ]
    }
   ],
   "source": [
    "def covid(patientname,body_Temp=98):\n",
    "    print(\"Enter patient name \",patientname)\n",
    "    print(\"patient body temperature is\",body_Temp,\"degree\")\n",
    "covid(\"Pratyush\")"
   ]
  },
  {
   "cell_type": "code",
   "execution_count": null,
   "metadata": {},
   "outputs": [],
   "source": []
  },
  {
   "cell_type": "code",
   "execution_count": null,
   "metadata": {},
   "outputs": [],
   "source": []
  },
  {
   "cell_type": "code",
   "execution_count": null,
   "metadata": {},
   "outputs": [],
   "source": []
  }
 ],
 "metadata": {
  "kernelspec": {
   "display_name": "Python 3",
   "language": "python",
   "name": "python3"
  },
  "language_info": {
   "codemirror_mode": {
    "name": "ipython",
    "version": 3
   },
   "file_extension": ".py",
   "mimetype": "text/x-python",
   "name": "python",
   "nbconvert_exporter": "python",
   "pygments_lexer": "ipython3",
   "version": "3.7.6"
  }
 },
 "nbformat": 4,
 "nbformat_minor": 4
}
